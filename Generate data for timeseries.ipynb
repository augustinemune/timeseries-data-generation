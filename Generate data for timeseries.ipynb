{
 "cells": [
  {
   "cell_type": "code",
   "execution_count": 1,
   "metadata": {},
   "outputs": [],
   "source": [
    "import random \n",
    "import os\n",
    "import calendar\n",
    "import numpy as np\n",
    "import pandas as pd\n",
    "import datetime"
   ]
  },
  {
   "cell_type": "code",
   "execution_count": 2,
   "metadata": {},
   "outputs": [
    {
     "name": "stdout",
     "output_type": "stream",
     "text": [
      "C:\\Users\\MILESCAFE-PC\\Desktop\\python\\NBS\n"
     ]
    }
   ],
   "source": [
    "cwd = os.getcwd()\n",
    "print(cwd)\n",
    "BASE_DIR = os.path.dirname(cwd)\n",
    "WORKING_DIR = os.path.join(BASE_DIR, 'data')\n",
    "os.makedirs(WORKING_DIR, exist_ok=True )"
   ]
  },
  {
   "cell_type": "code",
   "execution_count": 3,
   "metadata": {},
   "outputs": [],
   "source": [
    "products = {\n",
    "    \"Van\": [2000000, 4],\n",
    "    \"BMW\": [5000000, 3],\n",
    "    \"Lexus\": [7500000, 2],\n",
    "    \"Harrier\": [2500000, 5],\n",
    "    \"Range Rover\": [17000000, 1],\n",
    "    \"Voxy Wagon\": [4500000, 5],\n",
    "    \"Mercides\": [8000000, 2],\n",
    "    \"Mazda\": [900000, 8],\n",
    "    \"Saloon\": [1200000, 7],\n",
    "    \"Wish\": [1400000, 7],\n",
    "    \"Prado TX\": [4000000, 4]\n",
    "}"
   ]
  },
  {
   "cell_type": "code",
   "execution_count": 4,
   "metadata": {},
   "outputs": [],
   "source": [
    "def generate_random_address():\n",
    "    street_names = ['Main', '2nd', '1st', '4th', '5th', 'park', '6th', '7th', 'Maple', 'Pine', '8th']\n",
    "    cities = ['Nairobi', 'Thika', 'Nakuru', 'Eldoret', 'Juja', 'Westland', 'Upperhill', 'Kiambu', 'Kianyaga']\n",
    "    weights = [9,8,5,2,6,7,8,4,2]\n",
    "    states = ['CA', 'MA', 'NY', 'EL', 'JJ', 'WL', 'UH', 'KA', 'KI']\n",
    "    zips = ['10100', '73301', '11000', '20345', '34532', '23543', '90001', '98200', '04101']\n",
    "\n",
    "    street = random.choice(street_names) \n",
    "    index = random.choices(range(len(cities)), weights=weights)[0]\n",
    "\n",
    "    return f\"{random.randint(1,780)} {street} St, {cities[index]}, {states[index]}, {zips[index]}\""
   ]
  },
  {
   "cell_type": "code",
   "execution_count": 5,
   "metadata": {},
   "outputs": [],
   "source": [
    "products_list = [product for product in products]\n",
    "weights = [products[product][1] for product in products]\n",
    "columns = ['Order_ID', 'product', 'Price', 'Quantity Ordered', 'Order Date', 'Purchase Address']"
   ]
  },
  {
   "cell_type": "code",
   "execution_count": 7,
   "metadata": {},
   "outputs": [
    {
     "name": "stdout",
     "output_type": "stream",
     "text": [
      "January finished!!\n",
      "February finished!!\n",
      "March finished!!\n",
      "April finished!!\n",
      "May finished!!\n",
      "June finished!!\n",
      "July finished!!\n",
      "August finished!!\n",
      "September finished!!\n",
      "October finished!!\n",
      "November finished!!\n",
      "December finished!!\n"
     ]
    }
   ],
   "source": [
    "def generate_random_date(month):\n",
    "    day_range = calendar.monthrange(2019,month)[1]\n",
    "    random_day = random.randint(1, day_range)\n",
    "    \n",
    "    date = datetime.datetime(2019, month,random_day)\n",
    "\n",
    "    final_date = date\n",
    "    \n",
    "    return final_date.strftime(\"%m/%d/%y\")\n",
    "\n",
    "Order_ID = 267\n",
    "for month_value in range(1,13):\n",
    "    if month_value <= 10:\n",
    "        orders_amount = int(np.random.normal(loc=18800, scale=2100))\n",
    "    \n",
    "    if month_value == 11:\n",
    "        orders_amount = int(np.random.normal(loc=20000, scale=1800))\n",
    "        \n",
    "    if month_value == 12:\n",
    "        orders_amount = int(np.random.normal(loc=26000, scale=720))\n",
    "    \n",
    "    df = pd.DataFrame(columns=columns)\n",
    "    \n",
    "    for i in range(orders_amount):\n",
    "        address = generate_random_address()\n",
    "        date = generate_random_date(month_value)\n",
    "        \n",
    "        product = random.choices(products_list, weights=weights)[0]\n",
    "        price = products[product][0]\n",
    "        df.loc[i] = [Order_ID, product, price, 1, date, address]\n",
    "        \n",
    "        Order_ID += 1\n",
    "    \n",
    "    month_name = calendar.month_name[month_value]\n",
    "    print(month_name + \" finished!!\")\n",
    "    filepath = os.path.join('data', f\"{month_name}_vehicle_sales_data.csv\")\n",
    "    df.to_csv(filepath, index=False)"
   ]
  },
  {
   "cell_type": "code",
   "execution_count": null,
   "metadata": {},
   "outputs": [],
   "source": []
  },
  {
   "cell_type": "code",
   "execution_count": null,
   "metadata": {},
   "outputs": [],
   "source": []
  }
 ],
 "metadata": {
  "kernelspec": {
   "display_name": "Python 3",
   "language": "python",
   "name": "python3"
  },
  "language_info": {
   "codemirror_mode": {
    "name": "ipython",
    "version": 3
   },
   "file_extension": ".py",
   "mimetype": "text/x-python",
   "name": "python",
   "nbconvert_exporter": "python",
   "pygments_lexer": "ipython3",
   "version": "3.7.3"
  }
 },
 "nbformat": 4,
 "nbformat_minor": 2
}
